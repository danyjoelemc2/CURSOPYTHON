{
 "cells": [
  {
   "cell_type": "markdown",
   "metadata": {},
   "source": [
    "# PROBLEMAS DIVERSOS"
   ]
  },
  {
   "cell_type": "markdown",
   "metadata": {},
   "source": [
    "<h3>1.</h3>\n",
    "Realizar una función que permita la carga de n alumnos. Por cada alumno se deberá preguntar el nombre completo y permitir el ingreso de 3 notas. Las notas deben estar comprendidas entre 0 y 10. Devolver el listado de alumnos."
   ]
  },
  {
   "cell_type": "code",
   "execution_count": 10,
   "metadata": {},
   "outputs": [
    {
     "name": "stdin",
     "output_type": "stream",
     "text": [
      "Ingrese la cantidad de alumnos: 3\n",
      "Ingrese el nombre completo del alumno 1:  Dany Joel Anaya Sánchez\n",
      "Ingresa la nota 1:  4\n",
      "Ingresa la nota 2:  5\n",
      "Ingresa la nota 3:  6\n",
      "Ingrese el nombre completo del alumno 2:  José Alejandro Jara Piña\n",
      "Ingresa la nota 1:  6\n",
      "Ingresa la nota 2:  7\n",
      "Ingresa la nota 3:  8\n",
      "Ingrese el nombre completo del alumno 3:  Erick Andres Melo Villar\n",
      "Ingresa la nota 1:  1\n",
      "Ingresa la nota 2:  2\n",
      "Ingresa la nota 3:  -1\n"
     ]
    },
    {
     "name": "stdout",
     "output_type": "stream",
     "text": [
      "La nota debe ser menor a 10 y mayor a 0\n"
     ]
    },
    {
     "name": "stdin",
     "output_type": "stream",
     "text": [
      "Ingresa la nota 3:  10\n"
     ]
    },
    {
     "data": {
      "text/plain": [
       "[{'nombre': 'Dany Joel Anaya Sánchez',\n",
       "  'nota1': 4.0,\n",
       "  'nota2': 5.0,\n",
       "  'nota3': 6.0},\n",
       " {'nombre': 'José Alejandro Jara Piña',\n",
       "  'nota1': 6.0,\n",
       "  'nota2': 7.0,\n",
       "  'nota3': 8.0},\n",
       " {'nombre': 'Erick Andres Melo Villar',\n",
       "  'nota1': 1.0,\n",
       "  'nota2': 2.0,\n",
       "  'nota3': 10.0}]"
      ]
     },
     "execution_count": 10,
     "metadata": {},
     "output_type": "execute_result"
    }
   ],
   "source": [
    "lista = []\n",
    "\n",
    "def alumnos(lista, cant):\n",
    "    \n",
    "    for i in range(cant):\n",
    "        n = 0\n",
    "        alumno = {}\n",
    "        nombre = input(f\"Ingrese el nombre completo del alumno {len(lista) + 1}: \")\n",
    "        \n",
    "        alumno['nombre'] = nombre\n",
    "        \n",
    "        while n < 3:\n",
    "            try:\n",
    "                nota = float(input(f\"Ingresa la nota {n + 1}: \"))\n",
    "                if nota >= 0 and nota <= 10:\n",
    "                    alumno[f'nota{n+1}'] = nota\n",
    "                    n = n+1\n",
    "                else:\n",
    "                    print(\"La nota debe ser menor a 10 y mayor a 0\")\n",
    "            except:\n",
    "                print(\"Ingrese una nota menor a 10 y mayor a 0\")\n",
    "        lista.append(alumno)\n",
    "\n",
    "while True:\n",
    "    try:\n",
    "        cant = int(input(\"Ingrese la cantidad de alumnos:\"))\n",
    "        if cant <= 0:\n",
    "            print(\"La cantidad de alumnos debe ser mayor a 0\")\n",
    "        else:\n",
    "            break\n",
    "    except:\n",
    "        print(\"Ingrese una nota mayor a 0\")\n",
    "        \n",
    "alumnos(lista, cant)\n",
    "\n",
    "lista"
   ]
  },
  {
   "cell_type": "markdown",
   "metadata": {},
   "source": [
    "### 2.\n",
    "Definir una función que dado un listado de alumnos evalúe cuántos aprobaron y cuántos desaprobaron, teniendo en cuenta que se aprueba con 4. La nota será el promedio de las 3 notas para cada alumno."
   ]
  },
  {
   "cell_type": "code",
   "execution_count": 11,
   "metadata": {},
   "outputs": [
    {
     "name": "stdout",
     "output_type": "stream",
     "text": [
      "Cantidad de alumnos aprobados: 3\n",
      "Cantidad de alumnos desaprobados es de: 0\n"
     ]
    }
   ],
   "source": [
    "def promedio (lista):\n",
    "    for alumno in lista:\n",
    "        promedio = (alumno['nota1'] + alumno['nota2'] + alumno['nota3']) / 3\n",
    "        alumno['promedio'] = promedio\n",
    "\n",
    "def evaluar(lista):\n",
    "    aprobados = 0\n",
    "    desaprobados = 0\n",
    "\n",
    "    promedio(lista)\n",
    "    \n",
    "    for alumno in lista:\n",
    "        if alumno['promedio'] >= 4:\n",
    "            alumno['estado'] = 'Aprobado'\n",
    "            aprobados += 1\n",
    "        else:\n",
    "            alumno['estado'] = 'Desaprobado'\n",
    "            desaprobados += 1\n",
    "            \n",
    "    print(f'Cantidad de alumnos aprobados: {aprobados}')\n",
    "    print(f'Cantidad de alumnos desaprobados es de: {desaprobados}')\n",
    "    \n",
    "evaluar(lista)"
   ]
  },
  {
   "cell_type": "markdown",
   "metadata": {},
   "source": [
    "### 3.\n",
    "Informar el promedio de nota del curso total."
   ]
  },
  {
   "cell_type": "code",
   "execution_count": 12,
   "metadata": {},
   "outputs": [
    {
     "name": "stdout",
     "output_type": "stream",
     "text": [
      "Promedio de nota del curso total: 5.444444444444444\n"
     ]
    }
   ],
   "source": [
    "def promedio_curso(lista):\n",
    "    promedio = 0\n",
    "    for alumno in lista:\n",
    "        promedio += alumno['promedio']\n",
    "    \n",
    "    return promedio / len(lista)\n",
    "\n",
    "print(f\"Promedio de nota del curso total: {promedio_curso(lista)}\")"
   ]
  },
  {
   "cell_type": "markdown",
   "metadata": {},
   "source": [
    "### 4.\n",
    "Realizar una función que indique quién tuvo el promedio más alto y quién tuvo la nota promedio más baja."
   ]
  },
  {
   "cell_type": "code",
   "execution_count": 13,
   "metadata": {},
   "outputs": [
    {
     "name": "stdout",
     "output_type": "stream",
     "text": [
      "Alumno con el promedio más alto: José Alejandro Jara Piña\n",
      "Alumno con el promedio más bajo: Erick Andres Melo Villar\n"
     ]
    }
   ],
   "source": [
    "def puesto_promedio(lista):\n",
    "    promedioalto = 0\n",
    "    promediobajo = 10\n",
    "    for alumno in lista:\n",
    "        nombre = alumno['nombre']\n",
    "        if alumno['promedio'] >= promedioalto:\n",
    "            alumno_alto = alumno['nombre']\n",
    "            promedioalto = alumno['promedio']\n",
    "        if alumno['promedio'] <= promediobajo:\n",
    "            alumno_bajo = alumno['nombre']\n",
    "            promediobajo = alumno['promedio']\n",
    "    print(f\"Alumno con el promedio más alto: {alumno_alto}\")\n",
    "    print(f\"Alumno con el promedio más bajo: {alumno_bajo}\")\n",
    "\n",
    "puesto_promedio(lista)"
   ]
  },
  {
   "cell_type": "markdown",
   "metadata": {},
   "source": [
    "### 5.\n",
    "Realizar una función que permita buscar un alumno por nombre, siendo el nombre completo o parcial, y devuelva una lista con los n alumnos que concuerden con ese nombre junto con todos sus datos, incluido el promedio de sus notas."
   ]
  },
  {
   "cell_type": "code",
   "execution_count": 14,
   "metadata": {},
   "outputs": [
    {
     "name": "stdin",
     "output_type": "stream",
     "text": [
      "Nombre de alumno(s) que desea buscar:  Erick Andres Melo Villar\n"
     ]
    },
    {
     "name": "stdout",
     "output_type": "stream",
     "text": [
      "{'nombre': 'Erick Andres Melo Villar', 'nota1': 1.0, 'nota2': 2.0, 'nota3': 10.0, 'promedio': 4.333333333333333, 'estado': 'Aprobado'}\n"
     ]
    }
   ],
   "source": [
    "def buscar_alumno(nombre, lista):\n",
    "    for alumno in lista:\n",
    "        if alumno['nombre'] == nombre:\n",
    "            print(alumno)\n",
    "            \n",
    "nombre = input(\"Nombre de alumno(s) que desea buscar: \")\n",
    "\n",
    "buscar_alumno(nombre, lista)"
   ]
  }
 ],
 "metadata": {
  "kernelspec": {
   "display_name": "Python 3",
   "language": "python",
   "name": "python3"
  },
  "language_info": {
   "codemirror_mode": {
    "name": "ipython",
    "version": 3
   },
   "file_extension": ".py",
   "mimetype": "text/x-python",
   "name": "python",
   "nbconvert_exporter": "python",
   "pygments_lexer": "ipython3",
   "version": "3.8.5"
  }
 },
 "nbformat": 4,
 "nbformat_minor": 4
}
