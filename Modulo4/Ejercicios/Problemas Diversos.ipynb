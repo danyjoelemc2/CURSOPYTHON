{
 "cells": [
  {
   "cell_type": "markdown",
   "metadata": {},
   "source": [
    "# PROBLEMAS DIVERSOS"
   ]
  },
  {
   "cell_type": "markdown",
   "metadata": {},
   "source": [
    "<h3>1. Ficheros</h3>\n",
    "Escribir una función que pida un número entero entre 1 y 10 y guarde en un fichero con el nombre tabla-n.txt la tabla de multiplicar de ese número, done n es el número introducido."
   ]
  },
  {
   "cell_type": "code",
   "execution_count": 15,
   "metadata": {},
   "outputs": [
    {
     "name": "stdin",
     "output_type": "stream",
     "text": [
      "Ingresa un número menor que 10 y mayor a 1:  6\n"
     ]
    }
   ],
   "source": [
    "num = int(input('Ingresa un número menor que 10 y mayor a 1: '))\n",
    "file_name = 'tabla-' + str(num) + '.txt'\n",
    "f = open(file_name, 'w')\n",
    "for i in range(1, 13):\n",
    "    f.write(str(num) + ' x ' + str(i) + ' = ' + str(num * i) + '\\n')\n",
    "f.close()"
   ]
  },
  {
   "cell_type": "markdown",
   "metadata": {},
   "source": [
    "<h3>2.</h3>\n",
    "Escribir una función que pida un número entero entre 1 y 10, lea el fichero tabla-n.txt con la tabla de multiplicar de ese número, done n es el número introducido, y la muestre por pantalla. Si el fichero no existe debe mostrar un mensaje por pantalla informando de ello."
   ]
  },
  {
   "cell_type": "code",
   "execution_count": 16,
   "metadata": {},
   "outputs": [
    {
     "name": "stdin",
     "output_type": "stream",
     "text": [
      "Ingresa un número menor que 10 y mayor a 1:  6\n"
     ]
    },
    {
     "name": "stdout",
     "output_type": "stream",
     "text": [
      "6 x 1 = 6\n",
      "6 x 2 = 12\n",
      "6 x 3 = 18\n",
      "6 x 4 = 24\n",
      "6 x 5 = 30\n",
      "6 x 6 = 36\n",
      "6 x 7 = 42\n",
      "6 x 8 = 48\n",
      "6 x 9 = 54\n",
      "6 x 10 = 60\n",
      "6 x 11 = 66\n",
      "6 x 12 = 72\n",
      "\n"
     ]
    }
   ],
   "source": [
    "num = int(input('Ingresa un número menor que 10 y mayor a 1: '))\n",
    "file_name = 'tabla-' + str(num) + '.txt'\n",
    "try: \n",
    "    f = open(file_name, 'r')\n",
    "except FileNotFoundError:\n",
    "    print('Es inexistente el fichero con la tabla del', num)\n",
    "else:\n",
    "    print(f.read())"
   ]
  },
  {
   "cell_type": "markdown",
   "metadata": {},
   "source": [
    "<h3>3.</h3>\n",
    "\n",
    "Escribir una función que pida dos números n y m entre 1 y 10, lea el fichero tabla-n.txt con la tabla de multiplicar de ese número, y muestre por pantalla la línea m del fichero. Si el fichero no existe debe mostrar un mensaje por pantalla informando de ello."
   ]
  },
  {
   "cell_type": "code",
   "execution_count": 17,
   "metadata": {},
   "outputs": [
    {
     "name": "stdin",
     "output_type": "stream",
     "text": [
      "Ingresa un número menor que 10 y mayor a 1:  6\n",
      "Ingresa un número adicional menor que 10 y mayor a 1:  7\n"
     ]
    },
    {
     "name": "stdout",
     "output_type": "stream",
     "text": [
      "6 x 7 = 42\n",
      "\n"
     ]
    }
   ],
   "source": [
    "n = int(input('Ingresa un número menor que 10 y mayor a 1: '))\n",
    "m = int(input('Ingresa un número adicional menor que 10 y mayor a 1: '))\n",
    "file_name = 'tabla-' + str(n) + '.txt'\n",
    "try: \n",
    "    f = open(file_name, 'r')\n",
    "except FileNotFoundError:\n",
    "    print('No existe el fichero con la tabla del ', n)\n",
    "else:\n",
    "    lines = f.readlines()\n",
    "    print(lines[m - 1])"
   ]
  }
 ],
 "metadata": {
  "kernelspec": {
   "display_name": "Python 3",
   "language": "python",
   "name": "python3"
  },
  "language_info": {
   "codemirror_mode": {
    "name": "ipython",
    "version": 3
   },
   "file_extension": ".py",
   "mimetype": "text/x-python",
   "name": "python",
   "nbconvert_exporter": "python",
   "pygments_lexer": "ipython3",
   "version": "3.8.5"
  }
 },
 "nbformat": 4,
 "nbformat_minor": 4
}
